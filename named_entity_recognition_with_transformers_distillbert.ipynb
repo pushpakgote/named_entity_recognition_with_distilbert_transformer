{
  "cells": [
    {
      "cell_type": "code",
      "source": [
        "!pip install transformers"
      ],
      "metadata": {
        "colab": {
          "base_uri": "https://localhost:8080/"
        },
        "id": "eT3LVMTfGP81",
        "outputId": "c8940d7a-704a-460f-b734-83b80fff09f0"
      },
      "id": "eT3LVMTfGP81",
      "execution_count": 1,
      "outputs": [
        {
          "output_type": "stream",
          "name": "stdout",
          "text": [
            "Looking in indexes: https://pypi.org/simple, https://us-python.pkg.dev/colab-wheels/public/simple/\n",
            "Requirement already satisfied: transformers in /usr/local/lib/python3.8/dist-packages (4.26.1)\n",
            "Requirement already satisfied: packaging>=20.0 in /usr/local/lib/python3.8/dist-packages (from transformers) (23.0)\n",
            "Requirement already satisfied: filelock in /usr/local/lib/python3.8/dist-packages (from transformers) (3.9.0)\n",
            "Requirement already satisfied: regex!=2019.12.17 in /usr/local/lib/python3.8/dist-packages (from transformers) (2022.6.2)\n",
            "Requirement already satisfied: numpy>=1.17 in /usr/local/lib/python3.8/dist-packages (from transformers) (1.21.6)\n",
            "Requirement already satisfied: tokenizers!=0.11.3,<0.14,>=0.11.1 in /usr/local/lib/python3.8/dist-packages (from transformers) (0.13.2)\n",
            "Requirement already satisfied: pyyaml>=5.1 in /usr/local/lib/python3.8/dist-packages (from transformers) (6.0)\n",
            "Requirement already satisfied: tqdm>=4.27 in /usr/local/lib/python3.8/dist-packages (from transformers) (4.64.1)\n",
            "Requirement already satisfied: huggingface-hub<1.0,>=0.11.0 in /usr/local/lib/python3.8/dist-packages (from transformers) (0.12.0)\n",
            "Requirement already satisfied: requests in /usr/local/lib/python3.8/dist-packages (from transformers) (2.25.1)\n",
            "Requirement already satisfied: typing-extensions>=3.7.4.3 in /usr/local/lib/python3.8/dist-packages (from huggingface-hub<1.0,>=0.11.0->transformers) (4.4.0)\n",
            "Requirement already satisfied: urllib3<1.27,>=1.21.1 in /usr/local/lib/python3.8/dist-packages (from requests->transformers) (1.24.3)\n",
            "Requirement already satisfied: chardet<5,>=3.0.2 in /usr/local/lib/python3.8/dist-packages (from requests->transformers) (4.0.0)\n",
            "Requirement already satisfied: idna<3,>=2.5 in /usr/local/lib/python3.8/dist-packages (from requests->transformers) (2.10)\n",
            "Requirement already satisfied: certifi>=2017.4.17 in /usr/local/lib/python3.8/dist-packages (from requests->transformers) (2022.12.7)\n"
          ]
        }
      ]
    },
    {
      "cell_type": "markdown",
      "id": "0206a79a-2caf-4d42-abb0-ac2728614cf4",
      "metadata": {
        "id": "0206a79a-2caf-4d42-abb0-ac2728614cf4"
      },
      "source": [
        "# Transformer Network Application: Named-Entity Recognition\n",
        "\n",
        "We will build Named-Entity Recognition application using Transformers.\n",
        "\n",
        "**Objectives**:\n",
        "\n",
        "* Use tokenizers and pre-trained models from the HuggingFace Library.\n",
        "* Fine-tune a pre-trained transformer model for Named-Entity Recognition"
      ]
    },
    {
      "cell_type": "code",
      "execution_count": 2,
      "id": "8a482998-1411-4537-a23f-4f7eaae73a24",
      "metadata": {
        "id": "8a482998-1411-4537-a23f-4f7eaae73a24"
      },
      "outputs": [],
      "source": [
        "import pandas as pd\n",
        "import tensorflow as tf\n",
        "import json\n",
        "import random\n",
        "import logging\n",
        "import re"
      ]
    },
    {
      "cell_type": "markdown",
      "id": "84306a71-9a0f-4b46-807e-c3c6b5567e80",
      "metadata": {
        "id": "84306a71-9a0f-4b46-807e-c3c6b5567e80"
      },
      "source": [
        "<a name='1'></a>\n",
        "##  Named-Entity Recogniton to Process Resumes\n",
        "\n",
        "When faced with a large amount of unstructured text data, named-entity recognition (NER) can help you detect and classify important information in your dataset. For instance, in the running example \"Jane vists Africa in September\", NER would help you detect \"Jane\", \"Africa\", and \"September\" as named-entities and classify them as person, location, and time. \n",
        "\n",
        "* You will use a variation of the Transformer model to process a large dataset of resumes.\n",
        "* You will find and classify relavent information such as the companies the applicant worked at, skills, type of degree, etc. "
      ]
    },
    {
      "cell_type": "markdown",
      "id": "ed0912dd-df80-4ede-acc9-59bbd31d0344",
      "metadata": {
        "id": "ed0912dd-df80-4ede-acc9-59bbd31d0344"
      },
      "source": [
        "<a name='1-1'></a>\n",
        "### 1.1 - Dataset Cleaning\n",
        "\n",
        "We will optimize a Transformer model on a dataset of resumes. Take a look at how the data you will be working with are structured."
      ]
    },
    {
      "cell_type": "code",
      "execution_count": 3,
      "id": "2a145fc7-f889-4a84-9925-5291a3073fdf",
      "metadata": {
        "id": "2a145fc7-f889-4a84-9925-5291a3073fdf"
      },
      "outputs": [],
      "source": [
        "df_data=pd.read_json('ner.json',lines=True)\n",
        "df_data.drop(['extras'],axis=1,inplace=True)\n",
        "df_data['content']=df_data['content'].str.replace('\\n',' ')"
      ]
    },
    {
      "cell_type": "code",
      "execution_count": 4,
      "id": "0419af30-e91b-4e53-8271-064000bbc8ca",
      "metadata": {
        "colab": {
          "base_uri": "https://localhost:8080/",
          "height": 424
        },
        "id": "0419af30-e91b-4e53-8271-064000bbc8ca",
        "outputId": "51d30c16-3d52-42d2-d678-be18972e1012"
      },
      "outputs": [
        {
          "output_type": "execute_result",
          "data": {
            "text/plain": [
              "                                               content  \\\n",
              "0    Abhishek Jha Application Development Associate...   \n",
              "1    Afreen Jamadar Active member of IIIT Committee...   \n",
              "2    Akhil Yadav Polemaina Hyderabad, Telangana - E...   \n",
              "3    Alok Khandai Operational Analyst (SQL DBA) Eng...   \n",
              "4    Ananya Chavan lecturer - oracle tutorials  Mum...   \n",
              "..                                                 ...   \n",
              "215  Mansi Thanki Student  Jamnagar, Gujarat - Emai...   \n",
              "216  Anil Kumar Microsoft Azure (Basic Management) ...   \n",
              "217  Siddharth Choudhary Microsoft Office Suite - E...   \n",
              "218  Valarmathi Dhandapani Investment Banking Opera...   \n",
              "219  Pradeep Kumar Security Analyst in Infosys - Ca...   \n",
              "\n",
              "                                            annotation  \n",
              "0    [{'label': ['Skills'], 'points': [{'start': 12...  \n",
              "1    [{'label': ['Email Address'], 'points': [{'sta...  \n",
              "2    [{'label': ['Skills'], 'points': [{'start': 37...  \n",
              "3    [{'label': ['Skills'], 'points': [{'start': 80...  \n",
              "4    [{'label': ['Degree'], 'points': [{'start': 20...  \n",
              "..                                                 ...  \n",
              "215  [{'label': ['College Name'], 'points': [{'star...  \n",
              "216  [{'label': ['Location'], 'points': [{'start': ...  \n",
              "217  [{'label': ['Skills'], 'points': [{'start': 78...  \n",
              "218  [{'label': ['Skills'], 'points': [{'start': 92...  \n",
              "219  [{'label': ['Skills'], 'points': [{'start': 58...  \n",
              "\n",
              "[220 rows x 2 columns]"
            ],
            "text/html": [
              "\n",
              "  <div id=\"df-8c768b75-e6cd-4600-992b-7c7aef47787e\">\n",
              "    <div class=\"colab-df-container\">\n",
              "      <div>\n",
              "<style scoped>\n",
              "    .dataframe tbody tr th:only-of-type {\n",
              "        vertical-align: middle;\n",
              "    }\n",
              "\n",
              "    .dataframe tbody tr th {\n",
              "        vertical-align: top;\n",
              "    }\n",
              "\n",
              "    .dataframe thead th {\n",
              "        text-align: right;\n",
              "    }\n",
              "</style>\n",
              "<table border=\"1\" class=\"dataframe\">\n",
              "  <thead>\n",
              "    <tr style=\"text-align: right;\">\n",
              "      <th></th>\n",
              "      <th>content</th>\n",
              "      <th>annotation</th>\n",
              "    </tr>\n",
              "  </thead>\n",
              "  <tbody>\n",
              "    <tr>\n",
              "      <th>0</th>\n",
              "      <td>Abhishek Jha Application Development Associate...</td>\n",
              "      <td>[{'label': ['Skills'], 'points': [{'start': 12...</td>\n",
              "    </tr>\n",
              "    <tr>\n",
              "      <th>1</th>\n",
              "      <td>Afreen Jamadar Active member of IIIT Committee...</td>\n",
              "      <td>[{'label': ['Email Address'], 'points': [{'sta...</td>\n",
              "    </tr>\n",
              "    <tr>\n",
              "      <th>2</th>\n",
              "      <td>Akhil Yadav Polemaina Hyderabad, Telangana - E...</td>\n",
              "      <td>[{'label': ['Skills'], 'points': [{'start': 37...</td>\n",
              "    </tr>\n",
              "    <tr>\n",
              "      <th>3</th>\n",
              "      <td>Alok Khandai Operational Analyst (SQL DBA) Eng...</td>\n",
              "      <td>[{'label': ['Skills'], 'points': [{'start': 80...</td>\n",
              "    </tr>\n",
              "    <tr>\n",
              "      <th>4</th>\n",
              "      <td>Ananya Chavan lecturer - oracle tutorials  Mum...</td>\n",
              "      <td>[{'label': ['Degree'], 'points': [{'start': 20...</td>\n",
              "    </tr>\n",
              "    <tr>\n",
              "      <th>...</th>\n",
              "      <td>...</td>\n",
              "      <td>...</td>\n",
              "    </tr>\n",
              "    <tr>\n",
              "      <th>215</th>\n",
              "      <td>Mansi Thanki Student  Jamnagar, Gujarat - Emai...</td>\n",
              "      <td>[{'label': ['College Name'], 'points': [{'star...</td>\n",
              "    </tr>\n",
              "    <tr>\n",
              "      <th>216</th>\n",
              "      <td>Anil Kumar Microsoft Azure (Basic Management) ...</td>\n",
              "      <td>[{'label': ['Location'], 'points': [{'start': ...</td>\n",
              "    </tr>\n",
              "    <tr>\n",
              "      <th>217</th>\n",
              "      <td>Siddharth Choudhary Microsoft Office Suite - E...</td>\n",
              "      <td>[{'label': ['Skills'], 'points': [{'start': 78...</td>\n",
              "    </tr>\n",
              "    <tr>\n",
              "      <th>218</th>\n",
              "      <td>Valarmathi Dhandapani Investment Banking Opera...</td>\n",
              "      <td>[{'label': ['Skills'], 'points': [{'start': 92...</td>\n",
              "    </tr>\n",
              "    <tr>\n",
              "      <th>219</th>\n",
              "      <td>Pradeep Kumar Security Analyst in Infosys - Ca...</td>\n",
              "      <td>[{'label': ['Skills'], 'points': [{'start': 58...</td>\n",
              "    </tr>\n",
              "  </tbody>\n",
              "</table>\n",
              "<p>220 rows × 2 columns</p>\n",
              "</div>\n",
              "      <button class=\"colab-df-convert\" onclick=\"convertToInteractive('df-8c768b75-e6cd-4600-992b-7c7aef47787e')\"\n",
              "              title=\"Convert this dataframe to an interactive table.\"\n",
              "              style=\"display:none;\">\n",
              "        \n",
              "  <svg xmlns=\"http://www.w3.org/2000/svg\" height=\"24px\"viewBox=\"0 0 24 24\"\n",
              "       width=\"24px\">\n",
              "    <path d=\"M0 0h24v24H0V0z\" fill=\"none\"/>\n",
              "    <path d=\"M18.56 5.44l.94 2.06.94-2.06 2.06-.94-2.06-.94-.94-2.06-.94 2.06-2.06.94zm-11 1L8.5 8.5l.94-2.06 2.06-.94-2.06-.94L8.5 2.5l-.94 2.06-2.06.94zm10 10l.94 2.06.94-2.06 2.06-.94-2.06-.94-.94-2.06-.94 2.06-2.06.94z\"/><path d=\"M17.41 7.96l-1.37-1.37c-.4-.4-.92-.59-1.43-.59-.52 0-1.04.2-1.43.59L10.3 9.45l-7.72 7.72c-.78.78-.78 2.05 0 2.83L4 21.41c.39.39.9.59 1.41.59.51 0 1.02-.2 1.41-.59l7.78-7.78 2.81-2.81c.8-.78.8-2.07 0-2.86zM5.41 20L4 18.59l7.72-7.72 1.47 1.35L5.41 20z\"/>\n",
              "  </svg>\n",
              "      </button>\n",
              "      \n",
              "  <style>\n",
              "    .colab-df-container {\n",
              "      display:flex;\n",
              "      flex-wrap:wrap;\n",
              "      gap: 12px;\n",
              "    }\n",
              "\n",
              "    .colab-df-convert {\n",
              "      background-color: #E8F0FE;\n",
              "      border: none;\n",
              "      border-radius: 50%;\n",
              "      cursor: pointer;\n",
              "      display: none;\n",
              "      fill: #1967D2;\n",
              "      height: 32px;\n",
              "      padding: 0 0 0 0;\n",
              "      width: 32px;\n",
              "    }\n",
              "\n",
              "    .colab-df-convert:hover {\n",
              "      background-color: #E2EBFA;\n",
              "      box-shadow: 0px 1px 2px rgba(60, 64, 67, 0.3), 0px 1px 3px 1px rgba(60, 64, 67, 0.15);\n",
              "      fill: #174EA6;\n",
              "    }\n",
              "\n",
              "    [theme=dark] .colab-df-convert {\n",
              "      background-color: #3B4455;\n",
              "      fill: #D2E3FC;\n",
              "    }\n",
              "\n",
              "    [theme=dark] .colab-df-convert:hover {\n",
              "      background-color: #434B5C;\n",
              "      box-shadow: 0px 1px 3px 1px rgba(0, 0, 0, 0.15);\n",
              "      filter: drop-shadow(0px 1px 2px rgba(0, 0, 0, 0.3));\n",
              "      fill: #FFFFFF;\n",
              "    }\n",
              "  </style>\n",
              "\n",
              "      <script>\n",
              "        const buttonEl =\n",
              "          document.querySelector('#df-8c768b75-e6cd-4600-992b-7c7aef47787e button.colab-df-convert');\n",
              "        buttonEl.style.display =\n",
              "          google.colab.kernel.accessAllowed ? 'block' : 'none';\n",
              "\n",
              "        async function convertToInteractive(key) {\n",
              "          const element = document.querySelector('#df-8c768b75-e6cd-4600-992b-7c7aef47787e');\n",
              "          const dataTable =\n",
              "            await google.colab.kernel.invokeFunction('convertToInteractive',\n",
              "                                                     [key], {});\n",
              "          if (!dataTable) return;\n",
              "\n",
              "          const docLinkHtml = 'Like what you see? Visit the ' +\n",
              "            '<a target=\"_blank\" href=https://colab.research.google.com/notebooks/data_table.ipynb>data table notebook</a>'\n",
              "            + ' to learn more about interactive tables.';\n",
              "          element.innerHTML = '';\n",
              "          dataTable['output_type'] = 'display_data';\n",
              "          await google.colab.output.renderOutput(dataTable, element);\n",
              "          const docLink = document.createElement('div');\n",
              "          docLink.innerHTML = docLinkHtml;\n",
              "          element.appendChild(docLink);\n",
              "        }\n",
              "      </script>\n",
              "    </div>\n",
              "  </div>\n",
              "  "
            ]
          },
          "metadata": {},
          "execution_count": 4
        }
      ],
      "source": [
        "df_data"
      ]
    },
    {
      "cell_type": "code",
      "execution_count": 5,
      "id": "f2848da5-fd50-4f4c-9479-6707bcff9a21",
      "metadata": {
        "colab": {
          "base_uri": "https://localhost:8080/",
          "height": 140
        },
        "id": "f2848da5-fd50-4f4c-9479-6707bcff9a21",
        "outputId": "7b03998b-f1f3-4005-dfe1-1080cd1f7828"
      },
      "outputs": [
        {
          "output_type": "execute_result",
          "data": {
            "text/plain": [
              "\"Abhishek Jha Application Development Associate - Accenture  Bengaluru, Karnataka - Email me on Indeed: indeed.com/r/Abhishek-Jha/10e7a8cb732bc43a  • To work for an organization which provides me the opportunity to improve my skills and knowledge for my individual and company's growth in best possible ways.  Willing to relocate to: Bangalore, Karnataka  WORK EXPERIENCE  Application Development Associate  Accenture -  November 2017 to Present  Role: Currently working on Chat-bot. Developing Backend Oracle PeopleSoft Queries for the Bot which will be triggered based on given input. Also, Training the bot for different possible utterances (Both positive and negative), which will be given as input by the user.  EDUCATION  B.E in Information science and engineering  B.v.b college of engineering and technology -  Hubli, Karnataka  August 2013 to June 2017  12th in Mathematics  Woodbine modern school  April 2011 to March 2013  10th  Kendriya Vidyalaya  April 2001 to March 2011  SKILLS  C (Less than 1 year), Database (Less than 1 year), Database Management (Less than 1 year), Database Management System (Less than 1 year), Java (Less than 1 year)  ADDITIONAL INFORMATION  Technical Skills  https://www.indeed.com/r/Abhishek-Jha/10e7a8cb732bc43a?isid=rex-download&ikw=download-top&co=IN   • Programming language: C, C++, Java • Oracle PeopleSoft • Internet Of Things • Machine Learning • Database Management System • Computer Networks • Operating System worked on: Linux, Windows, Mac  Non - Technical Skills  • Honest and Hard-Working • Tolerant and Flexible to Different Situations • Polite and Calm • Team-Player\""
            ],
            "application/vnd.google.colaboratory.intrinsic+json": {
              "type": "string"
            }
          },
          "metadata": {},
          "execution_count": 5
        }
      ],
      "source": [
        "df_data['content'][0]"
      ]
    },
    {
      "cell_type": "code",
      "execution_count": 6,
      "id": "dd40816e-c704-4760-b963-7c2a9f88e19e",
      "metadata": {
        "colab": {
          "base_uri": "https://localhost:8080/"
        },
        "id": "dd40816e-c704-4760-b963-7c2a9f88e19e",
        "outputId": "4cc68274-f682-48da-f948-083d1506d66a"
      },
      "outputs": [
        {
          "output_type": "execute_result",
          "data": {
            "text/plain": [
              "[{'label': ['Skills'],\n",
              "  'points': [{'start': 1295,\n",
              "    'end': 1621,\n",
              "    'text': '\\n• Programming language: C, C++, Java\\n• Oracle PeopleSoft\\n• Internet Of Things\\n• Machine Learning\\n• Database Management System\\n• Computer Networks\\n• Operating System worked on: Linux, Windows, Mac\\n\\nNon - Technical Skills\\n\\n• Honest and Hard-Working\\n• Tolerant and Flexible to Different Situations\\n• Polite and Calm\\n• Team-Player'}]},\n",
              " {'label': ['Skills'],\n",
              "  'points': [{'start': 993,\n",
              "    'end': 1153,\n",
              "    'text': 'C (Less than 1 year), Database (Less than 1 year), Database Management (Less than 1 year),\\nDatabase Management System (Less than 1 year), Java (Less than 1 year)'}]},\n",
              " {'label': ['College Name'],\n",
              "  'points': [{'start': 939, 'end': 956, 'text': 'Kendriya Vidyalaya'}]},\n",
              " {'label': ['College Name'],\n",
              "  'points': [{'start': 883, 'end': 904, 'text': 'Woodbine modern school'}]},\n",
              " {'label': ['Graduation Year'],\n",
              "  'points': [{'start': 856, 'end': 860, 'text': '2017\\n'}]},\n",
              " {'label': ['College Name'],\n",
              "  'points': [{'start': 771,\n",
              "    'end': 813,\n",
              "    'text': 'B.v.b college of engineering and technology'}]},\n",
              " {'label': ['Designation'],\n",
              "  'points': [{'start': 727,\n",
              "    'end': 769,\n",
              "    'text': 'B.E in Information science and engineering\\n'}]},\n",
              " {'label': ['Companies worked at'],\n",
              "  'points': [{'start': 407, 'end': 415, 'text': 'Accenture'}]},\n",
              " {'label': ['Designation'],\n",
              "  'points': [{'start': 372,\n",
              "    'end': 404,\n",
              "    'text': 'Application Development Associate'}]},\n",
              " {'label': ['Email Address'],\n",
              "  'points': [{'start': 95,\n",
              "    'end': 145,\n",
              "    'text': 'Indeed: indeed.com/r/Abhishek-Jha/10e7a8cb732bc43a\\n'}]},\n",
              " {'label': ['Location'],\n",
              "  'points': [{'start': 60, 'end': 68, 'text': 'Bengaluru'}]},\n",
              " {'label': ['Companies worked at'],\n",
              "  'points': [{'start': 49, 'end': 57, 'text': 'Accenture'}]},\n",
              " {'label': ['Designation'],\n",
              "  'points': [{'start': 13,\n",
              "    'end': 45,\n",
              "    'text': 'Application Development Associate'}]},\n",
              " {'label': ['Name'],\n",
              "  'points': [{'start': 0, 'end': 11, 'text': 'Abhishek Jha'}]}]"
            ]
          },
          "metadata": {},
          "execution_count": 6
        }
      ],
      "source": [
        "df_data['annotation'][0]"
      ]
    },
    {
      "cell_type": "code",
      "execution_count": 9,
      "id": "7155686f-e792-45b8-8588-bf2e733c8269",
      "metadata": {
        "colab": {
          "base_uri": "https://localhost:8080/",
          "height": 206
        },
        "id": "7155686f-e792-45b8-8588-bf2e733c8269",
        "outputId": "ebb61ea3-b3aa-4d35-bf66-ab70b18f4fda"
      },
      "outputs": [
        {
          "output_type": "execute_result",
          "data": {
            "text/plain": [
              "                                             content  \\\n",
              "0  Abhishek Jha Application Development Associate...   \n",
              "1  Afreen Jamadar Active member of IIIT Committee...   \n",
              "2  Akhil Yadav Polemaina Hyderabad, Telangana - E...   \n",
              "3  Alok Khandai Operational Analyst (SQL DBA) Eng...   \n",
              "4  Ananya Chavan lecturer - oracle tutorials  Mum...   \n",
              "\n",
              "                                          annotation  \n",
              "0  [{'label': ['Skills'], 'points': [{'start': 12...  \n",
              "1  [{'label': ['Email Address'], 'points': [{'sta...  \n",
              "2  [{'label': ['Skills'], 'points': [{'start': 37...  \n",
              "3  [{'label': ['Skills'], 'points': [{'start': 80...  \n",
              "4  [{'label': ['Degree'], 'points': [{'start': 20...  "
            ],
            "text/html": [
              "\n",
              "  <div id=\"df-fb76f846-6681-4cd2-9bc2-414a9f20d71c\">\n",
              "    <div class=\"colab-df-container\">\n",
              "      <div>\n",
              "<style scoped>\n",
              "    .dataframe tbody tr th:only-of-type {\n",
              "        vertical-align: middle;\n",
              "    }\n",
              "\n",
              "    .dataframe tbody tr th {\n",
              "        vertical-align: top;\n",
              "    }\n",
              "\n",
              "    .dataframe thead th {\n",
              "        text-align: right;\n",
              "    }\n",
              "</style>\n",
              "<table border=\"1\" class=\"dataframe\">\n",
              "  <thead>\n",
              "    <tr style=\"text-align: right;\">\n",
              "      <th></th>\n",
              "      <th>content</th>\n",
              "      <th>annotation</th>\n",
              "    </tr>\n",
              "  </thead>\n",
              "  <tbody>\n",
              "    <tr>\n",
              "      <th>0</th>\n",
              "      <td>Abhishek Jha Application Development Associate...</td>\n",
              "      <td>[{'label': ['Skills'], 'points': [{'start': 12...</td>\n",
              "    </tr>\n",
              "    <tr>\n",
              "      <th>1</th>\n",
              "      <td>Afreen Jamadar Active member of IIIT Committee...</td>\n",
              "      <td>[{'label': ['Email Address'], 'points': [{'sta...</td>\n",
              "    </tr>\n",
              "    <tr>\n",
              "      <th>2</th>\n",
              "      <td>Akhil Yadav Polemaina Hyderabad, Telangana - E...</td>\n",
              "      <td>[{'label': ['Skills'], 'points': [{'start': 37...</td>\n",
              "    </tr>\n",
              "    <tr>\n",
              "      <th>3</th>\n",
              "      <td>Alok Khandai Operational Analyst (SQL DBA) Eng...</td>\n",
              "      <td>[{'label': ['Skills'], 'points': [{'start': 80...</td>\n",
              "    </tr>\n",
              "    <tr>\n",
              "      <th>4</th>\n",
              "      <td>Ananya Chavan lecturer - oracle tutorials  Mum...</td>\n",
              "      <td>[{'label': ['Degree'], 'points': [{'start': 20...</td>\n",
              "    </tr>\n",
              "  </tbody>\n",
              "</table>\n",
              "</div>\n",
              "      <button class=\"colab-df-convert\" onclick=\"convertToInteractive('df-fb76f846-6681-4cd2-9bc2-414a9f20d71c')\"\n",
              "              title=\"Convert this dataframe to an interactive table.\"\n",
              "              style=\"display:none;\">\n",
              "        \n",
              "  <svg xmlns=\"http://www.w3.org/2000/svg\" height=\"24px\"viewBox=\"0 0 24 24\"\n",
              "       width=\"24px\">\n",
              "    <path d=\"M0 0h24v24H0V0z\" fill=\"none\"/>\n",
              "    <path d=\"M18.56 5.44l.94 2.06.94-2.06 2.06-.94-2.06-.94-.94-2.06-.94 2.06-2.06.94zm-11 1L8.5 8.5l.94-2.06 2.06-.94-2.06-.94L8.5 2.5l-.94 2.06-2.06.94zm10 10l.94 2.06.94-2.06 2.06-.94-2.06-.94-.94-2.06-.94 2.06-2.06.94z\"/><path d=\"M17.41 7.96l-1.37-1.37c-.4-.4-.92-.59-1.43-.59-.52 0-1.04.2-1.43.59L10.3 9.45l-7.72 7.72c-.78.78-.78 2.05 0 2.83L4 21.41c.39.39.9.59 1.41.59.51 0 1.02-.2 1.41-.59l7.78-7.78 2.81-2.81c.8-.78.8-2.07 0-2.86zM5.41 20L4 18.59l7.72-7.72 1.47 1.35L5.41 20z\"/>\n",
              "  </svg>\n",
              "      </button>\n",
              "      \n",
              "  <style>\n",
              "    .colab-df-container {\n",
              "      display:flex;\n",
              "      flex-wrap:wrap;\n",
              "      gap: 12px;\n",
              "    }\n",
              "\n",
              "    .colab-df-convert {\n",
              "      background-color: #E8F0FE;\n",
              "      border: none;\n",
              "      border-radius: 50%;\n",
              "      cursor: pointer;\n",
              "      display: none;\n",
              "      fill: #1967D2;\n",
              "      height: 32px;\n",
              "      padding: 0 0 0 0;\n",
              "      width: 32px;\n",
              "    }\n",
              "\n",
              "    .colab-df-convert:hover {\n",
              "      background-color: #E2EBFA;\n",
              "      box-shadow: 0px 1px 2px rgba(60, 64, 67, 0.3), 0px 1px 3px 1px rgba(60, 64, 67, 0.15);\n",
              "      fill: #174EA6;\n",
              "    }\n",
              "\n",
              "    [theme=dark] .colab-df-convert {\n",
              "      background-color: #3B4455;\n",
              "      fill: #D2E3FC;\n",
              "    }\n",
              "\n",
              "    [theme=dark] .colab-df-convert:hover {\n",
              "      background-color: #434B5C;\n",
              "      box-shadow: 0px 1px 3px 1px rgba(0, 0, 0, 0.15);\n",
              "      filter: drop-shadow(0px 1px 2px rgba(0, 0, 0, 0.3));\n",
              "      fill: #FFFFFF;\n",
              "    }\n",
              "  </style>\n",
              "\n",
              "      <script>\n",
              "        const buttonEl =\n",
              "          document.querySelector('#df-fb76f846-6681-4cd2-9bc2-414a9f20d71c button.colab-df-convert');\n",
              "        buttonEl.style.display =\n",
              "          google.colab.kernel.accessAllowed ? 'block' : 'none';\n",
              "\n",
              "        async function convertToInteractive(key) {\n",
              "          const element = document.querySelector('#df-fb76f846-6681-4cd2-9bc2-414a9f20d71c');\n",
              "          const dataTable =\n",
              "            await google.colab.kernel.invokeFunction('convertToInteractive',\n",
              "                                                     [key], {});\n",
              "          if (!dataTable) return;\n",
              "\n",
              "          const docLinkHtml = 'Like what you see? Visit the ' +\n",
              "            '<a target=\"_blank\" href=https://colab.research.google.com/notebooks/data_table.ipynb>data table notebook</a>'\n",
              "            + ' to learn more about interactive tables.';\n",
              "          element.innerHTML = '';\n",
              "          dataTable['output_type'] = 'display_data';\n",
              "          await google.colab.output.renderOutput(dataTable, element);\n",
              "          const docLink = document.createElement('div');\n",
              "          docLink.innerHTML = docLinkHtml;\n",
              "          element.appendChild(docLink);\n",
              "        }\n",
              "      </script>\n",
              "    </div>\n",
              "  </div>\n",
              "  "
            ]
          },
          "metadata": {},
          "execution_count": 9
        }
      ],
      "source": [
        "df_data.head()"
      ]
    },
    {
      "cell_type": "code",
      "execution_count": 10,
      "id": "4db8785c-d2cf-4cee-bd54-3fd726524ffa",
      "metadata": {
        "id": "4db8785c-d2cf-4cee-bd54-3fd726524ffa"
      },
      "outputs": [],
      "source": [
        "def convert_dataturks_to_spacy(dataturks_JSON_FilePath):\n",
        "    try:\n",
        "        training_data = []\n",
        "        lines=[]\n",
        "        with open(dataturks_JSON_FilePath, 'r') as f:\n",
        "            lines = f.readlines()\n",
        "\n",
        "        for line in lines:\n",
        "            data = json.loads(line)\n",
        "            text = data['content'].replace(\"\\n\", \" \")\n",
        "            entities = []\n",
        "            data_annotations = data['annotation']\n",
        "            if data_annotations is not None:\n",
        "                for annotation in data_annotations:\n",
        "                    #only a single point in text annotation.\n",
        "                    point = annotation['points'][0]\n",
        "                    labels = annotation['label']\n",
        "                    # handle both list of labels or a single label.\n",
        "                    if not isinstance(labels, list):\n",
        "                        labels = [labels]\n",
        "\n",
        "                    for label in labels:\n",
        "                        point_start = point['start']\n",
        "                        point_end = point['end']\n",
        "                        point_text = point['text']\n",
        "                        \n",
        "                        lstrip_diff = len(point_text) - len(point_text.lstrip())\n",
        "                        rstrip_diff = len(point_text) - len(point_text.rstrip())\n",
        "                        if lstrip_diff != 0:\n",
        "                            point_start = point_start + lstrip_diff\n",
        "                        if rstrip_diff != 0:\n",
        "                            point_end = point_end - rstrip_diff\n",
        "                        entities.append((point_start, point_end + 1 , label))\n",
        "            training_data.append((text, {\"entities\" : entities}))\n",
        "        return training_data\n",
        "    except Exception as e:\n",
        "        logging.exception(\"Unable to process \" + dataturks_JSON_FilePath + \"\\n\" + \"error = \" + str(e))\n",
        "        return None\n",
        "\n",
        "def trim_entity_spans(data: list) -> list:\n",
        "    \"\"\"Removes leading and trailing white spaces from entity spans.\n",
        "\n",
        "    Args:\n",
        "        data (list): The data to be cleaned in spaCy JSON format.\n",
        "\n",
        "    Returns:\n",
        "        list: The cleaned data.\n",
        "    \"\"\"\n",
        "    invalid_span_tokens = re.compile(r'\\s')\n",
        "\n",
        "    cleaned_data = []\n",
        "    for text, annotations in data:\n",
        "        entities = annotations['entities']\n",
        "        valid_entities = []\n",
        "        for start, end, label in entities:\n",
        "            valid_start = start\n",
        "            valid_end = end\n",
        "            while valid_start < len(text) and invalid_span_tokens.match(\n",
        "                    text[valid_start]):\n",
        "                valid_start += 1\n",
        "            while valid_end > 1 and invalid_span_tokens.match(\n",
        "                    text[valid_end - 1]):\n",
        "                valid_end -= 1\n",
        "            valid_entities.append([valid_start, valid_end, label])\n",
        "        cleaned_data.append([text, {'entities': valid_entities}])\n",
        "    return cleaned_data  "
      ]
    },
    {
      "cell_type": "code",
      "execution_count": 11,
      "id": "e6343ecc-43d8-4ab7-87e8-0388d0f0fbe5",
      "metadata": {
        "id": "e6343ecc-43d8-4ab7-87e8-0388d0f0fbe5"
      },
      "outputs": [],
      "source": [
        "def correct_entity_space_pointers(df_data):\n",
        "    '''\n",
        "    Makes start and end pointers of annotations to point to text if they are pointing to spaces.\n",
        "    Ex: if text is ' python' and start=0,end=6 then then this function changes start to 1 and end to 6.\n",
        "    \n",
        "    Arguments:\n",
        "    df_data -- pandas dataframe\n",
        "    \n",
        "    Returns:\n",
        "    trainng_data -- list in format [start,end,label]\n",
        "    '''\n",
        "    \n",
        "    #z=0\n",
        "    training_data=[]\n",
        "    for resume,annotations in zip(df_data['content'],df_data['annotation']):\n",
        "\n",
        "        entity=[]\n",
        "        #print(resume[1295:1621+1])\n",
        "        for annotation in annotations:\n",
        "            #print(z,annotation)\n",
        "            labels=annotation['label']\n",
        "            for label in labels:\n",
        "                points=annotation['points'][0]\n",
        "                #print(label,points)\n",
        "                start,end,text=points['start'],points['end'],points['text']\n",
        "\n",
        "                #print(start,end,type(text))\n",
        "                start+= len(text)-len(text.lstrip())  # if text=' hi' and start=0 , then len(text)=3 and len(text.lstrip())=2 , thus 3-2=1. Therefore start=start + 1 = 0+1=1\n",
        "                end  -= len(text)-len(text.rstrip())  # if text='hi ' and end=2 , then len(text)=3 and len(text.rstrip())=2 , thus 3-2=1. Therefore end=end - 1 = 2-1=1\n",
        "\n",
        "                entity.append([start,end+1,label])\n",
        "\n",
        "        training_data.append([resume,{'entities':entity}])\n",
        "        #z+=1    \n",
        "    return training_data"
      ]
    },
    {
      "cell_type": "code",
      "execution_count": 12,
      "id": "c6e2265a-8aad-417d-b92e-d34df77eb4a4",
      "metadata": {
        "id": "c6e2265a-8aad-417d-b92e-d34df77eb4a4"
      },
      "outputs": [],
      "source": [
        "def correct_entity_whitespace_pointers(df_data):\n",
        "    \"\"\"\n",
        "    Removes leading and trailing white spaces from entity spans.\n",
        "\n",
        "    Args:\n",
        "        df_data (list): The data to be cleaned in spaCy JSON format.\n",
        "\n",
        "    Returns:\n",
        "        list: The cleaned data.\n",
        "    \"\"\"\n",
        "    invalid_span_tokens=re.compile(r'\\s') #\\s will match any whitespace character ( \\r , \\n , \\t , \\f and \\v )\n",
        "    cleaned_data=[]\n",
        "    for text,annotation in training_data:\n",
        "        entities=annotation['entities']\n",
        "        valid_entities=[]\n",
        "        for start, end, label in entities:\n",
        "            valid_start=start\n",
        "            valid_end=end\n",
        "            while valid_start < len(text) and invalid_span_tokens.match(text[valid_start]):\n",
        "                valid_start+=1\n",
        "            while valid_end > 1 and invalid_span_tokens.match(text[valid_end-1]):\n",
        "                valid_end-=1\n",
        "            valid_entities.append([valid_start,valid_end,label])\n",
        "        cleaned_data.append([text, {'entities': valid_entities}])\n",
        "    \n",
        "    return cleaned_data"
      ]
    },
    {
      "cell_type": "code",
      "execution_count": 13,
      "id": "e3d4687d-869a-4d4c-a60f-5c1d69ab0a09",
      "metadata": {
        "id": "e3d4687d-869a-4d4c-a60f-5c1d69ab0a09"
      },
      "outputs": [],
      "source": [
        "training_data=correct_entity_space_pointers(df_data)\n",
        "data=correct_entity_whitespace_pointers(training_data)"
      ]
    },
    {
      "cell_type": "code",
      "execution_count": 14,
      "id": "ce30f304-341d-46cc-a4c2-97fb7917799b",
      "metadata": {
        "id": "ce30f304-341d-46cc-a4c2-97fb7917799b"
      },
      "outputs": [],
      "source": [
        "from tqdm.notebook import tqdm\n",
        "def clean_dataset(data):\n",
        "    '''\n",
        "    Gives label to every word in text , either Empty or given label. Returns pandas dataframe of labels\n",
        "    \n",
        "    Arguments:\n",
        "    data -- list containing text and entities\n",
        "    \n",
        "    Returns:\n",
        "    cleanedDF -- pandas dataframe\n",
        "    '''\n",
        "    \n",
        "    cleanedDF = pd.DataFrame(columns=[\"setences_cleaned\"])\n",
        "    sum1 = 0\n",
        "    for i in tqdm(range(len(data))):\n",
        "        start = 0\n",
        "        emptyList = [\"Empty\"] * len(data[i][0].split())\n",
        "        numberOfWords = 0\n",
        "        lenOfString = len(data[i][0])\n",
        "        strData = data[i][0]\n",
        "        strDictData = data[i][1]\n",
        "        #gives index of last appearance of space\n",
        "        lastIndexOfSpace = strData.rfind(' ')\n",
        "        \n",
        "        #whenever we encounter space , give label to last word\n",
        "        for i in range(lenOfString):\n",
        "            if (strData[i]==\" \" and strData[i+1]!=\" \"):\n",
        "                for k,v in strDictData.items():\n",
        "                    for j in range(len(v)):\n",
        "                        entList = v[len(v)-j-1]\n",
        "                        if (start>=int(entList[0]) and i<=int(entList[1])):\n",
        "                            emptyList[numberOfWords] = entList[2]\n",
        "                            break\n",
        "                        else:\n",
        "                            continue\n",
        "                start = i + 1  \n",
        "                numberOfWords += 1\n",
        "            \n",
        "            #for iterating on last word:\n",
        "            if (i == lastIndexOfSpace):\n",
        "                for j in range(len(v)):\n",
        "                        entList = v[len(v)-j-1]\n",
        "                        if (lastIndexOfSpace>=int(entList[0]) and lenOfString<=int(entList[1])):\n",
        "                            emptyList[numberOfWords] = entList[2]\n",
        "                            numberOfWords += 1\n",
        "                            \n",
        "        cleanedDF = cleanedDF.append(pd.Series([emptyList],  index=cleanedDF.columns ), ignore_index=True )\n",
        "        sum1 = sum1 + numberOfWords\n",
        "    return cleanedDF"
      ]
    },
    {
      "cell_type": "code",
      "execution_count": 15,
      "id": "a335e229-e4d8-4602-97ed-892657b8d96e",
      "metadata": {
        "colab": {
          "base_uri": "https://localhost:8080/",
          "height": 49,
          "referenced_widgets": [
            "674ebf94d781453b87af8aa20842f1b5",
            "e00bc4130a4b4de6a347265c252a7224",
            "875ce1f5d1b342c7b3e81258c1fc8ce1",
            "95f01e0fd0694532a8dc2d2cedfdfd34",
            "85a1bd6c7cc54c138cfbbd3f3c8db57a",
            "ba22f40b6d374b19aa7c34e083ba6859",
            "8e45831c9f4546dabfc2997f629cf10d",
            "fc81588a19ec4d6299846920aea8e8c2",
            "066e156749be42abae59938f69a29755",
            "3721626903884ecaa394d394edbcdd2e",
            "eeffacf5bbb84c27a28861a93aa7a5b2"
          ]
        },
        "id": "a335e229-e4d8-4602-97ed-892657b8d96e",
        "outputId": "bf3749cf-85b5-41d2-9a9e-270d737ebbb0"
      },
      "outputs": [
        {
          "output_type": "display_data",
          "data": {
            "text/plain": [
              "  0%|          | 0/220 [00:00<?, ?it/s]"
            ],
            "application/vnd.jupyter.widget-view+json": {
              "version_major": 2,
              "version_minor": 0,
              "model_id": "674ebf94d781453b87af8aa20842f1b5"
            }
          },
          "metadata": {}
        }
      ],
      "source": [
        "cleanedDF = clean_dataset(data)"
      ]
    },
    {
      "cell_type": "code",
      "execution_count": 16,
      "id": "668535cb-68b5-4c72-a782-64070f2e3977",
      "metadata": {
        "colab": {
          "base_uri": "https://localhost:8080/",
          "height": 424
        },
        "id": "668535cb-68b5-4c72-a782-64070f2e3977",
        "outputId": "0756cc08-fe05-4650-f1de-cbe2f4219356"
      },
      "outputs": [
        {
          "output_type": "execute_result",
          "data": {
            "text/plain": [
              "                                      setences_cleaned\n",
              "0    [Name, Name, Designation, Designation, Designa...\n",
              "1    [Name, Name, Empty, Empty, Empty, Empty, Empty...\n",
              "2    [Name, Name, Name, Empty, Empty, Empty, Empty,...\n",
              "3    [Name, Name, Designation, Designation, Designa...\n",
              "4    [Name, Name, Designation, Empty, Companies wor...\n",
              "..                                                 ...\n",
              "215  [Name, Name, Empty, Empty, Empty, Empty, Empty...\n",
              "216  [Name, Name, Designation, Designation, Designa...\n",
              "217  [Name, Name, Designation, Designation, Designa...\n",
              "218  [Name, Name, Designation, Designation, Empty, ...\n",
              "219  [Name, Name, Designation, Designation, Empty, ...\n",
              "\n",
              "[220 rows x 1 columns]"
            ],
            "text/html": [
              "\n",
              "  <div id=\"df-6363150b-a68c-42c1-bd62-227cc71b1801\">\n",
              "    <div class=\"colab-df-container\">\n",
              "      <div>\n",
              "<style scoped>\n",
              "    .dataframe tbody tr th:only-of-type {\n",
              "        vertical-align: middle;\n",
              "    }\n",
              "\n",
              "    .dataframe tbody tr th {\n",
              "        vertical-align: top;\n",
              "    }\n",
              "\n",
              "    .dataframe thead th {\n",
              "        text-align: right;\n",
              "    }\n",
              "</style>\n",
              "<table border=\"1\" class=\"dataframe\">\n",
              "  <thead>\n",
              "    <tr style=\"text-align: right;\">\n",
              "      <th></th>\n",
              "      <th>setences_cleaned</th>\n",
              "    </tr>\n",
              "  </thead>\n",
              "  <tbody>\n",
              "    <tr>\n",
              "      <th>0</th>\n",
              "      <td>[Name, Name, Designation, Designation, Designa...</td>\n",
              "    </tr>\n",
              "    <tr>\n",
              "      <th>1</th>\n",
              "      <td>[Name, Name, Empty, Empty, Empty, Empty, Empty...</td>\n",
              "    </tr>\n",
              "    <tr>\n",
              "      <th>2</th>\n",
              "      <td>[Name, Name, Name, Empty, Empty, Empty, Empty,...</td>\n",
              "    </tr>\n",
              "    <tr>\n",
              "      <th>3</th>\n",
              "      <td>[Name, Name, Designation, Designation, Designa...</td>\n",
              "    </tr>\n",
              "    <tr>\n",
              "      <th>4</th>\n",
              "      <td>[Name, Name, Designation, Empty, Companies wor...</td>\n",
              "    </tr>\n",
              "    <tr>\n",
              "      <th>...</th>\n",
              "      <td>...</td>\n",
              "    </tr>\n",
              "    <tr>\n",
              "      <th>215</th>\n",
              "      <td>[Name, Name, Empty, Empty, Empty, Empty, Empty...</td>\n",
              "    </tr>\n",
              "    <tr>\n",
              "      <th>216</th>\n",
              "      <td>[Name, Name, Designation, Designation, Designa...</td>\n",
              "    </tr>\n",
              "    <tr>\n",
              "      <th>217</th>\n",
              "      <td>[Name, Name, Designation, Designation, Designa...</td>\n",
              "    </tr>\n",
              "    <tr>\n",
              "      <th>218</th>\n",
              "      <td>[Name, Name, Designation, Designation, Empty, ...</td>\n",
              "    </tr>\n",
              "    <tr>\n",
              "      <th>219</th>\n",
              "      <td>[Name, Name, Designation, Designation, Empty, ...</td>\n",
              "    </tr>\n",
              "  </tbody>\n",
              "</table>\n",
              "<p>220 rows × 1 columns</p>\n",
              "</div>\n",
              "      <button class=\"colab-df-convert\" onclick=\"convertToInteractive('df-6363150b-a68c-42c1-bd62-227cc71b1801')\"\n",
              "              title=\"Convert this dataframe to an interactive table.\"\n",
              "              style=\"display:none;\">\n",
              "        \n",
              "  <svg xmlns=\"http://www.w3.org/2000/svg\" height=\"24px\"viewBox=\"0 0 24 24\"\n",
              "       width=\"24px\">\n",
              "    <path d=\"M0 0h24v24H0V0z\" fill=\"none\"/>\n",
              "    <path d=\"M18.56 5.44l.94 2.06.94-2.06 2.06-.94-2.06-.94-.94-2.06-.94 2.06-2.06.94zm-11 1L8.5 8.5l.94-2.06 2.06-.94-2.06-.94L8.5 2.5l-.94 2.06-2.06.94zm10 10l.94 2.06.94-2.06 2.06-.94-2.06-.94-.94-2.06-.94 2.06-2.06.94z\"/><path d=\"M17.41 7.96l-1.37-1.37c-.4-.4-.92-.59-1.43-.59-.52 0-1.04.2-1.43.59L10.3 9.45l-7.72 7.72c-.78.78-.78 2.05 0 2.83L4 21.41c.39.39.9.59 1.41.59.51 0 1.02-.2 1.41-.59l7.78-7.78 2.81-2.81c.8-.78.8-2.07 0-2.86zM5.41 20L4 18.59l7.72-7.72 1.47 1.35L5.41 20z\"/>\n",
              "  </svg>\n",
              "      </button>\n",
              "      \n",
              "  <style>\n",
              "    .colab-df-container {\n",
              "      display:flex;\n",
              "      flex-wrap:wrap;\n",
              "      gap: 12px;\n",
              "    }\n",
              "\n",
              "    .colab-df-convert {\n",
              "      background-color: #E8F0FE;\n",
              "      border: none;\n",
              "      border-radius: 50%;\n",
              "      cursor: pointer;\n",
              "      display: none;\n",
              "      fill: #1967D2;\n",
              "      height: 32px;\n",
              "      padding: 0 0 0 0;\n",
              "      width: 32px;\n",
              "    }\n",
              "\n",
              "    .colab-df-convert:hover {\n",
              "      background-color: #E2EBFA;\n",
              "      box-shadow: 0px 1px 2px rgba(60, 64, 67, 0.3), 0px 1px 3px 1px rgba(60, 64, 67, 0.15);\n",
              "      fill: #174EA6;\n",
              "    }\n",
              "\n",
              "    [theme=dark] .colab-df-convert {\n",
              "      background-color: #3B4455;\n",
              "      fill: #D2E3FC;\n",
              "    }\n",
              "\n",
              "    [theme=dark] .colab-df-convert:hover {\n",
              "      background-color: #434B5C;\n",
              "      box-shadow: 0px 1px 3px 1px rgba(0, 0, 0, 0.15);\n",
              "      filter: drop-shadow(0px 1px 2px rgba(0, 0, 0, 0.3));\n",
              "      fill: #FFFFFF;\n",
              "    }\n",
              "  </style>\n",
              "\n",
              "      <script>\n",
              "        const buttonEl =\n",
              "          document.querySelector('#df-6363150b-a68c-42c1-bd62-227cc71b1801 button.colab-df-convert');\n",
              "        buttonEl.style.display =\n",
              "          google.colab.kernel.accessAllowed ? 'block' : 'none';\n",
              "\n",
              "        async function convertToInteractive(key) {\n",
              "          const element = document.querySelector('#df-6363150b-a68c-42c1-bd62-227cc71b1801');\n",
              "          const dataTable =\n",
              "            await google.colab.kernel.invokeFunction('convertToInteractive',\n",
              "                                                     [key], {});\n",
              "          if (!dataTable) return;\n",
              "\n",
              "          const docLinkHtml = 'Like what you see? Visit the ' +\n",
              "            '<a target=\"_blank\" href=https://colab.research.google.com/notebooks/data_table.ipynb>data table notebook</a>'\n",
              "            + ' to learn more about interactive tables.';\n",
              "          element.innerHTML = '';\n",
              "          dataTable['output_type'] = 'display_data';\n",
              "          await google.colab.output.renderOutput(dataTable, element);\n",
              "          const docLink = document.createElement('div');\n",
              "          docLink.innerHTML = docLinkHtml;\n",
              "          element.appendChild(docLink);\n",
              "        }\n",
              "      </script>\n",
              "    </div>\n",
              "  </div>\n",
              "  "
            ]
          },
          "metadata": {},
          "execution_count": 16
        }
      ],
      "source": [
        "cleanedDF"
      ]
    },
    {
      "cell_type": "markdown",
      "id": "ddf7b95d-d300-41bd-9b6b-dc197e109f27",
      "metadata": {
        "id": "ddf7b95d-d300-41bd-9b6b-dc197e109f27"
      },
      "source": [
        "<a name='1-2'></a>\n",
        "### 1.2 - Padding and Generating Tags\n"
      ]
    },
    {
      "cell_type": "code",
      "execution_count": 17,
      "id": "fcd9a4a8-9ccc-4e5a-a469-827fc1868464",
      "metadata": {
        "id": "fcd9a4a8-9ccc-4e5a-a469-827fc1868464"
      },
      "outputs": [],
      "source": [
        "unique_tags = set(cleanedDF['setences_cleaned'].explode().unique())\n"
      ]
    },
    {
      "cell_type": "code",
      "source": [],
      "metadata": {
        "id": "G92f1R71PA09"
      },
      "id": "G92f1R71PA09",
      "execution_count": 17,
      "outputs": []
    },
    {
      "cell_type": "code",
      "execution_count": 18,
      "id": "00bee8d2-db34-4e23-85c3-47b0916fbac5",
      "metadata": {
        "id": "00bee8d2-db34-4e23-85c3-47b0916fbac5",
        "colab": {
          "base_uri": "https://localhost:8080/"
        },
        "outputId": "17fb95be-5679-4ff4-9aee-985cd506ab27"
      },
      "outputs": [
        {
          "output_type": "execute_result",
          "data": {
            "text/plain": [
              "{'College Name',\n",
              " 'Companies worked at',\n",
              " 'Degree',\n",
              " 'Designation',\n",
              " 'Email Address',\n",
              " 'Empty',\n",
              " 'Graduation Year',\n",
              " 'Location',\n",
              " 'Name',\n",
              " 'Skills',\n",
              " 'UNKNOWN',\n",
              " 'Years of Experience'}"
            ]
          },
          "metadata": {},
          "execution_count": 18
        }
      ],
      "source": [
        "unique_tags"
      ]
    },
    {
      "cell_type": "code",
      "source": [
        "unique_tags.add('label_pad')"
      ],
      "metadata": {
        "id": "j9XEXU3fzqvB"
      },
      "id": "j9XEXU3fzqvB",
      "execution_count": 19,
      "outputs": []
    },
    {
      "cell_type": "code",
      "source": [
        "unique_tags"
      ],
      "metadata": {
        "id": "9VinW-2j0Del",
        "colab": {
          "base_uri": "https://localhost:8080/"
        },
        "outputId": "9b390f12-f8b1-41de-ba97-a3a3777b9fb0"
      },
      "id": "9VinW-2j0Del",
      "execution_count": 20,
      "outputs": [
        {
          "output_type": "execute_result",
          "data": {
            "text/plain": [
              "{'College Name',\n",
              " 'Companies worked at',\n",
              " 'Degree',\n",
              " 'Designation',\n",
              " 'Email Address',\n",
              " 'Empty',\n",
              " 'Graduation Year',\n",
              " 'Location',\n",
              " 'Name',\n",
              " 'Skills',\n",
              " 'UNKNOWN',\n",
              " 'Years of Experience',\n",
              " 'label_pad'}"
            ]
          },
          "metadata": {},
          "execution_count": 20
        }
      ]
    },
    {
      "cell_type": "code",
      "source": [
        "tag2id = {tag: id for id, tag in enumerate(unique_tags)}\n",
        "id2tag = {id: tag for tag, id in tag2id.items()}"
      ],
      "metadata": {
        "id": "CAkMzNcL137E"
      },
      "id": "CAkMzNcL137E",
      "execution_count": 21,
      "outputs": []
    },
    {
      "cell_type": "code",
      "source": [
        "tag2id['Empty'],tag2id['label_pad']"
      ],
      "metadata": {
        "colab": {
          "base_uri": "https://localhost:8080/"
        },
        "id": "dapCKLBy6JbK",
        "outputId": "5cd5ecf3-a742-4842-ca4b-9f36b9162a92"
      },
      "id": "dapCKLBy6JbK",
      "execution_count": 22,
      "outputs": [
        {
          "output_type": "execute_result",
          "data": {
            "text/plain": [
              "(10, 4)"
            ]
          },
          "metadata": {},
          "execution_count": 22
        }
      ]
    },
    {
      "cell_type": "markdown",
      "id": "79aa6e28-03f2-4f73-bec1-504eb3b51b56",
      "metadata": {
        "id": "79aa6e28-03f2-4f73-bec1-504eb3b51b56"
      },
      "source": [
        "Next, we will create an array of tags from our cleaned dataset. Oftentimes input sequence will exceed the maximum length of a sequence our network can process. In this case, our sequence will be cut off, and we need to append zeroes onto the end of the shortened sequences using this [Keras padding API](https://www.tensorflow.org/api_docs/python/tf/keras/preprocessing/sequence/pad_sequences)."
      ]
    },
    {
      "cell_type": "code",
      "execution_count": 23,
      "id": "18c5d274-a32d-4b5c-b8a2-b24cec2a98c3",
      "metadata": {
        "id": "18c5d274-a32d-4b5c-b8a2-b24cec2a98c3"
      },
      "outputs": [],
      "source": [
        "from tensorflow.keras.preprocessing.sequence import pad_sequences"
      ]
    },
    {
      "cell_type": "code",
      "execution_count": 24,
      "id": "08f6ba30-65e0-4702-abf7-f9ebd1cc0760",
      "metadata": {
        "id": "08f6ba30-65e0-4702-abf7-f9ebd1cc0760"
      },
      "outputs": [],
      "source": [
        "MAX_LEN = 512\n",
        "labels = cleanedDF['setences_cleaned'].values.tolist()\n",
        "\n",
        "tags = pad_sequences([[tag2id.get(l) for l in lab] for lab in labels],\n",
        "                     maxlen=MAX_LEN, value=tag2id[\"Empty\"], padding=\"post\",\n",
        "                     dtype=\"long\", truncating=\"post\")"
      ]
    },
    {
      "cell_type": "code",
      "execution_count": 25,
      "id": "138e07ce-399f-4308-a36c-7dc37d986558",
      "metadata": {
        "colab": {
          "base_uri": "https://localhost:8080/"
        },
        "id": "138e07ce-399f-4308-a36c-7dc37d986558",
        "outputId": "7cf6f571-6d09-4bb8-eafe-e1dae266c379"
      },
      "outputs": [
        {
          "output_type": "execute_result",
          "data": {
            "text/plain": [
              "array([[ 6,  6,  9, ..., 10, 10, 10],\n",
              "       [ 6,  6, 10, ..., 10, 10, 10],\n",
              "       [ 6,  6,  6, ..., 10,  5, 10],\n",
              "       ...,\n",
              "       [ 6,  6,  9, ..., 10, 10, 10],\n",
              "       [ 6,  6,  9, ..., 10, 10, 10],\n",
              "       [ 6,  6,  9, ..., 10, 10, 10]])"
            ]
          },
          "metadata": {},
          "execution_count": 25
        }
      ],
      "source": [
        "tags"
      ]
    },
    {
      "cell_type": "markdown",
      "id": "6035bd0b-7f63-4388-aec7-1694095deb0a",
      "metadata": {
        "id": "6035bd0b-7f63-4388-aec7-1694095deb0a"
      },
      "source": [
        "<a name='1-3'></a>\n",
        "### 1.3 - Tokenize and Align Labels with 🤗 Library\n",
        "\n",
        "Before feeding the texts to a Transformer model, you will need to tokenize your input using a [🤗 Transformer tokenizer](https://huggingface.co/transformers/main_classes/tokenizer.html). It is crucial that the tokenizer you use must match the Transformer model type you are using! In this exercise, you will use the 🤗 [DistilBERT fast tokenizer](https://huggingface.co/transformers/model_doc/distilbert.html), which standardizes the length of your sequence to 512 and pads with zeros. Notice this matches the maximum length you used when creating tags. "
      ]
    },
    {
      "cell_type": "code",
      "execution_count": 26,
      "id": "af40834d-60b9-4c8b-b6e4-40c20d99f168",
      "metadata": {
        "id": "af40834d-60b9-4c8b-b6e4-40c20d99f168"
      },
      "outputs": [],
      "source": [
        "from transformers import DistilBertTokenizerFast #TFDistilBertModel\n",
        "#tokenizer=DistilBertTokenizerFast.from_pretrained('tokenizer/')\n",
        "tokenizer=DistilBertTokenizerFast.from_pretrained('distilbert-base-uncased')"
      ]
    },
    {
      "cell_type": "code",
      "execution_count": 27,
      "id": "2f233eed-254c-4df3-9ab5-dd96d85c8d2b",
      "metadata": {
        "colab": {
          "base_uri": "https://localhost:8080/"
        },
        "id": "2f233eed-254c-4df3-9ab5-dd96d85c8d2b",
        "outputId": "e62c1d91-82b1-4700-812c-2961e16598f3"
      },
      "outputs": [
        {
          "output_type": "stream",
          "name": "stdout",
          "text": [
            "DistilBertTokenizerFast(name_or_path='distilbert-base-uncased', vocab_size=30522, model_max_length=512, is_fast=True, padding_side='right', truncation_side='right', special_tokens={'unk_token': '[UNK]', 'sep_token': '[SEP]', 'pad_token': '[PAD]', 'cls_token': '[CLS]', 'mask_token': '[MASK]'})\n"
          ]
        }
      ],
      "source": [
        "print(tokenizer)"
      ]
    },
    {
      "cell_type": "markdown",
      "id": "e40d7a9a-271e-4c34-8983-ac9426ec9593",
      "metadata": {
        "id": "e40d7a9a-271e-4c34-8983-ac9426ec9593"
      },
      "source": [
        "Transformer models are often trained by tokenizers that split words into subwords. For instance, the word 'Africa' might get split into multiple subtokens. This can create some misalignment between the list of tags for the dataset and the list of labels generated by the tokenizer, since the tokenizer can split one word into several, or add special tokens. Before processing, it is important that you align the lists of tags and the list of labels generated by the selected tokenizer with a `tokenize_and_align_labels()` function.\n",
        "\n",
        "<a name='ex-1'></a>\n",
        "### Implement - tokenize_and_align_labels\n",
        "\n",
        "Implement `tokenize_and_align_labels()`. The function should perform the following:\n",
        "* The tokenizer cuts sequences that exceed the maximum size allowed by your model with the parameter `truncation=True`\n",
        "* Aligns the list of tags and labels with the tokenizer `word_ids` method returns a list that maps the subtokens to the original word in the sentence and special tokens to `None`. \n",
        "* Set the labels of all the special tokens (`None`) to -100 to prevent them from affecting the loss function. \n",
        "* Label of the first subtoken of a word and set the label for the following subtokens to -100. "
      ]
    },
    {
      "cell_type": "code",
      "execution_count": 28,
      "id": "92312a86-0926-488b-aa49-9fe82b98cfc4",
      "metadata": {
        "id": "92312a86-0926-488b-aa49-9fe82b98cfc4"
      },
      "outputs": [],
      "source": [
        "examples= df_data['content'].values.tolist()"
      ]
    },
    {
      "cell_type": "code",
      "execution_count": 29,
      "id": "9fa270ce-d94b-420a-91e0-ffc0fc97a57b",
      "metadata": {
        "colab": {
          "base_uri": "https://localhost:8080/"
        },
        "id": "9fa270ce-d94b-420a-91e0-ffc0fc97a57b",
        "outputId": "ce7e798e-611f-4722-fc51-53dcd5eb719f"
      },
      "outputs": [
        {
          "output_type": "execute_result",
          "data": {
            "text/plain": [
              "30522"
            ]
          },
          "metadata": {},
          "execution_count": 29
        }
      ],
      "source": [
        "len(tokenizer.vocab)"
      ]
    },
    {
      "cell_type": "code",
      "execution_count": 30,
      "id": "9b671175-e916-45b6-9281-77ebbd1e7074",
      "metadata": {
        "id": "9b671175-e916-45b6-9281-77ebbd1e7074"
      },
      "outputs": [],
      "source": [
        "tokenized_input=tokenizer(examples,truncation=True,is_split_into_words=False,padding='max_length',max_length=512)"
      ]
    },
    {
      "cell_type": "code",
      "execution_count": 31,
      "id": "9415c4d7-52cb-473d-9b6b-df97a1c8eac4",
      "metadata": {
        "colab": {
          "base_uri": "https://localhost:8080/"
        },
        "id": "9415c4d7-52cb-473d-9b6b-df97a1c8eac4",
        "outputId": "8f010969-82f1-4177-edeb-161cc5afad8a"
      },
      "outputs": [
        {
          "output_type": "stream",
          "name": "stdout",
          "text": [
            "[None, 0, 0, 0, 0, 1, 1, 2, 3, 4, 5, 6, 6, 7, 7, 8, 9, 10, 11, 12, 13, 14, 15, 16, 17, 18, 19, 20, 21, 22, 22, 22, 22, 23, 24, 24, 25, 26, 26, 26, 26, 26, 26, 26, 26, 26, 26, 26, 27, 28, 29, 30, 31, 32, 33, 34, 35, 36, 37, 38, 39, 40, 41, 42, 43, 44, 45, 46, 47, 48, 49, 50, 51, 52, 53, 54, 55, 56, 57, 58, 59, 60, 61, 62, 63, 64, 65, 66, 67, 68, 69, 70, 70, 71, 72, 73, 74, 75, 76, 77, 78, 79, 80, 81, 82, 83, 84, 85, 86, 86, 87, 88, 88, 89, 89, 90, 91, 92, 93, 94, 95, 96, 97, 98, 99, 100, 101, 102, 103, 104, 105, 106, 107, 108, 109, 110, 110, 111, 112, 113, 114, 115, 116, 117, 118, 119, 120, 121, 122, 123, 124, 125, 126, 127, 128, 129, 130, 131, 132, 133, 134, 135, 136, 137, 138, 139, 140, 141, 142, 143, 144, 145, 146, 147, 148, 148, 149, 150, 151, 152, 153, 154, 155, 156, 157, 158, 159, 159, 160, 161, 162, 163, 164, 165, 166, 167, 168, 168, 168, 169, 169, 169, 170, 171, 172, 173, 174, 175, 176, 177, 178, 179, 180, 181, 182, 183, 184, 185, 186, 187, 188, 189, 190, 191, 192, 193, 194, 195, 196, 197, 198, 199, 200, 201, 202, 203, 204, 205, 206, 207, 208, 209, 210, 211, 212, 213, 214, 215, 216, 217, 218, 219, 220, 221, 222, 223, 224, 225, 226, 227, 228, 229, 230, 231, 232, 233, 234, 234, 234, 234, 235, 236, 236, 237, 238, 238, 238, 238, 238, 238, 238, 238, 238, 238, 238, 239, 240, 240, 241, 242, 243, 244, 245, 246, 246, 247, 248, 249, 250, 251, 252, 253, 254, 255, 256, 257, 258, 259, 260, 261, 262, 263, 264, 265, 266, 267, 268, 268, 269, 270, 271, 272, 273, 274, 275, 276, 277, 278, 279, 280, 281, 282, 283, 284, 285, 286, 287, 288, 289, 290, 291, 292, 293, 294, 295, 296, 297, 298, 299, 300, 301, 302, 303, 304, 305, 306, 307, 308, 309, 310, 311, 312, 313, 314, 315, 316, 317, 318, None, None, None, None, None, None, None, None, None, None, None, None, None, None, None, None, None, None, None, None, None, None, None, None, None, None, None, None, None, None, None, None, None, None, None, None, None, None, None, None, None, None, None, None, None, None, None, None, None, None, None, None, None, None, None, None, None, None, None, None, None, None, None, None, None, None, None, None, None, None, None, None, None, None, None, None, None, None, None, None, None, None, None, None, None, None, None, None, None, None, None, None, None, None, None, None, None, None, None, None, None, None, None, None, None, None, None, None, None, None, None, None, None, None, None, None, None, None, None, None, None, None, None, None, None, None, None, None, None, None, None, None, None, None, None, None, None, None, None, None, None, None, None, None]"
          ]
        }
      ],
      "source": [
        "print( tokenized_input.word_ids(batch_index=0) ,end='')"
      ]
    },
    {
      "cell_type": "code",
      "execution_count": 32,
      "id": "910cac3d-32ea-411f-91c7-da019cc6be20",
      "metadata": {
        "id": "910cac3d-32ea-411f-91c7-da019cc6be20"
      },
      "outputs": [],
      "source": [
        "label_all_tokens = True\n",
        "def tokenize_and_align_labels(tokenizer, examples, tags):\n",
        "    tokenized_inputs = tokenizer(examples, truncation=True, is_split_into_words=False, padding='max_length', max_length=512)\n",
        "    labels = []\n",
        "    for i, label in enumerate(tags):\n",
        "        word_ids = tokenized_inputs.word_ids(batch_index=i)\n",
        "        previous_word_idx = None\n",
        "        label_ids = []\n",
        "        for word_idx in word_ids:\n",
        "            # Special tokens have a word id that is None. We set the label to -100 so they are automatically\n",
        "            # ignored in the loss function.\n",
        "            if word_idx is None:\n",
        "                #label_ids.append(-100)\n",
        "                label_ids.append(tag2id['label_pad'])\n",
        "                \n",
        "            # We set the label for the first token of each word.\n",
        "            elif word_idx != previous_word_idx:\n",
        "                label_ids.append(label[word_idx])\n",
        "            # For the other tokens in a word, we set the label to either the current label or -100, depending on\n",
        "            # the label_all_tokens flag.\n",
        "            else:\n",
        "                #label_ids.append(label[word_idx] if label_all_tokens else -100)\n",
        "                label_ids.append(label[word_idx] if label_all_tokens else tag2id['label_pad'])\n",
        "            previous_word_idx = word_idx\n",
        "\n",
        "        labels.append(label_ids)\n",
        "        \n",
        "\n",
        "    tokenized_inputs[\"labels\"] = labels\n",
        "    return tokenized_inputs"
      ]
    },
    {
      "cell_type": "code",
      "execution_count": 33,
      "id": "936dfd23-d850-4689-8be6-3ed18280f33b",
      "metadata": {
        "id": "936dfd23-d850-4689-8be6-3ed18280f33b"
      },
      "outputs": [],
      "source": [
        "test = tokenize_and_align_labels(tokenizer, df_data['content'].values.tolist(), tags)"
      ]
    },
    {
      "cell_type": "code",
      "source": [
        "test.keys()"
      ],
      "metadata": {
        "colab": {
          "base_uri": "https://localhost:8080/"
        },
        "id": "IG_LlDynQD4-",
        "outputId": "7e50f39f-4841-460e-887a-d4e9d1898a9b"
      },
      "id": "IG_LlDynQD4-",
      "execution_count": 34,
      "outputs": [
        {
          "output_type": "execute_result",
          "data": {
            "text/plain": [
              "dict_keys(['input_ids', 'attention_mask', 'labels'])"
            ]
          },
          "metadata": {},
          "execution_count": 34
        }
      ]
    },
    {
      "cell_type": "code",
      "execution_count": 35,
      "id": "0f390092-1f55-4788-80b6-088eaf279f3a",
      "metadata": {
        "id": "0f390092-1f55-4788-80b6-088eaf279f3a"
      },
      "outputs": [],
      "source": [
        "train_dataset = tf.data.Dataset.from_tensor_slices((  test['input_ids'],  test['labels'] ))\n",
        "#train_dataset = tf.data.Dataset.from_tensor_slices((  {x:test[x] for x in ['input_ids', 'attention_mask'] } ,  test['labels'] ))\n",
        "#{x:test[x]} for x in ['input_ids', 'attention_mask'] }"
      ]
    },
    {
      "cell_type": "code",
      "execution_count": 36,
      "id": "a8dbeb62-a994-4a27-8d7f-68490cb8db83",
      "metadata": {
        "colab": {
          "base_uri": "https://localhost:8080/"
        },
        "id": "a8dbeb62-a994-4a27-8d7f-68490cb8db83",
        "outputId": "8a6fc0dc-7e95-4ec8-eff7-aeacde5bcf13"
      },
      "outputs": [
        {
          "output_type": "stream",
          "name": "stdout",
          "text": [
            "[4, 6, 6, 6, 6, 6, 6, 9, 9, 9, 10, 10, 10, 10, 10, 10, 10, 10, 10, 10, 1, 10, 10, 10, 10, 10, 10, 10, 10, 10, 10, 10, 10, 10, 10, 10, 10, 10, 10, 10, 10, 10, 10, 10, 10, 10, 10, 10, 10, 10, 10, 10, 10, 10, 10, 10, 10, 10, 10, 10, 10, 10, 10, 10, 10, 10, 10, 10, 10, 10, 10, 9, 9, 10, 2, 10, 10, 10, 10, 10, 10, 10, 10, 10, 10, 10, 10, 10, 10, 10, 10, 10, 10, 10, 10, 10, 10, 10, 10, 10, 10, 10, 10, 10, 10, 10, 10, 10, 10, 10, 10, 10, 10, 10, 10, 10, 10, 10, 10, 10, 10, 10, 10, 10, 10, 10, 10, 9, 9, 9, 9, 9, 10, 8, 8, 8, 8, 8, 8, 8, 10, 10, 10, 10, 10, 10, 10, 10, 10, 10, 10, 8, 8, 10, 10, 10, 10, 10, 10, 10, 8, 10, 10, 10, 10, 10, 10, 10, 5, 5, 5, 5, 5, 5, 5, 5, 5, 5, 5, 5, 5, 5, 5, 5, 5, 5, 5, 5, 5, 5, 5, 5, 5, 5, 5, 5, 5, 5, 5, 10, 10, 10, 10, 10, 10, 10, 10, 5, 5, 5, 5, 5, 5, 5, 5, 5, 5, 5, 5, 5, 5, 5, 5, 5, 5, 5, 5, 5, 5, 5, 5, 5, 5, 5, 5, 5, 5, 5, 5, 5, 5, 5, 5, 5, 5, 5, 5, 5, 5, 5, 5, 5, 5, 5, 5, 5, 5, 5, 5, 10, 10, 10, 10, 10, 10, 10, 10, 10, 10, 10, 10, 10, 10, 10, 10, 10, 10, 10, 10, 10, 10, 10, 10, 10, 10, 10, 10, 10, 10, 10, 10, 10, 10, 10, 10, 10, 10, 10, 10, 10, 10, 10, 10, 10, 10, 10, 10, 10, 10, 10, 10, 10, 10, 10, 10, 10, 10, 10, 10, 10, 10, 10, 10, 10, 10, 10, 10, 10, 10, 10, 10, 10, 10, 10, 10, 10, 10, 10, 10, 10, 10, 10, 10, 10, 10, 10, 10, 10, 10, 10, 10, 10, 10, 10, 10, 10, 10, 10, 10, 10, 10, 10, 10, 10, 10, 10, 10, 10, 4, 4, 4, 4, 4, 4, 4, 4, 4, 4, 4, 4, 4, 4, 4, 4, 4, 4, 4, 4, 4, 4, 4, 4, 4, 4, 4, 4, 4, 4, 4, 4, 4, 4, 4, 4, 4, 4, 4, 4, 4, 4, 4, 4, 4, 4, 4, 4, 4, 4, 4, 4, 4, 4, 4, 4, 4, 4, 4, 4, 4, 4, 4, 4, 4, 4, 4, 4, 4, 4, 4, 4, 4, 4, 4, 4, 4, 4, 4, 4, 4, 4, 4, 4, 4, 4, 4, 4, 4, 4, 4, 4, 4, 4, 4, 4, 4, 4, 4, 4, 4, 4, 4, 4, 4, 4, 4, 4, 4, 4, 4, 4, 4, 4, 4, 4, 4, 4, 4, 4, 4, 4, 4, 4, 4, 4, 4, 4, 4, 4, 4, 4, 4, 4, 4, 4, 4, 4, 4, 4, 4, 4, 4, 4]"
          ]
        }
      ],
      "source": [
        "print( test['labels'][0] ,end='')"
      ]
    },
    {
      "cell_type": "markdown",
      "id": "adcae657-154c-4fcc-8196-5af6c45edd77",
      "metadata": {
        "id": "adcae657-154c-4fcc-8196-5af6c45edd77"
      },
      "source": [
        "<a name='1-4'></a>\n",
        "### 1.4 - Optimization\n",
        "\n",
        "Now we can finally feed our data into into a pretrained 🤗 model. We will optimize a DistilBERT model, which matches the tokenizer we used to preprocess your data. "
      ]
    },
    {
      "cell_type": "code",
      "execution_count": 72,
      "id": "47ac55df-0e59-4c3f-97b3-9455f66ab249",
      "metadata": {
        "colab": {
          "base_uri": "https://localhost:8080/"
        },
        "id": "47ac55df-0e59-4c3f-97b3-9455f66ab249",
        "outputId": "7d597ef9-cd15-45a0-e937-adb14ee75c95"
      },
      "outputs": [
        {
          "output_type": "stream",
          "name": "stderr",
          "text": [
            "Some layers from the model checkpoint at distilbert-base-uncased were not used when initializing TFDistilBertForTokenClassification: ['activation_13', 'vocab_projector', 'vocab_transform', 'vocab_layer_norm']\n",
            "- This IS expected if you are initializing TFDistilBertForTokenClassification from the checkpoint of a model trained on another task or with another architecture (e.g. initializing a BertForSequenceClassification model from a BertForPreTraining model).\n",
            "- This IS NOT expected if you are initializing TFDistilBertForTokenClassification from the checkpoint of a model that you expect to be exactly identical (initializing a BertForSequenceClassification model from a BertForSequenceClassification model).\n",
            "Some layers of TFDistilBertForTokenClassification were not initialized from the model checkpoint at distilbert-base-uncased and are newly initialized: ['dropout_39', 'classifier']\n",
            "You should probably TRAIN this model on a down-stream task to be able to use it for predictions and inference.\n"
          ]
        }
      ],
      "source": [
        "from transformers import TFDistilBertForTokenClassification\n",
        "\n",
        "model = TFDistilBertForTokenClassification.from_pretrained('distilbert-base-uncased', num_labels=len(unique_tags))"
      ]
    },
    {
      "cell_type": "code",
      "execution_count": 41,
      "id": "ff49d1cf-7d50-418d-b331-19315dc324df",
      "metadata": {
        "colab": {
          "base_uri": "https://localhost:8080/"
        },
        "id": "ff49d1cf-7d50-418d-b331-19315dc324df",
        "outputId": "3fb7a2fa-93ca-4100-fcbb-d13924261b9e"
      },
      "outputs": [
        {
          "output_type": "stream",
          "name": "stdout",
          "text": [
            "Epoch 1/3\n"
          ]
        },
        {
          "output_type": "stream",
          "name": "stderr",
          "text": [
            "WARNING:tensorflow:From /usr/local/lib/python3.8/dist-packages/tensorflow/python/autograph/pyct/static_analysis/liveness.py:83: Analyzer.lamba_check (from tensorflow.python.autograph.pyct.static_analysis.liveness) is deprecated and will be removed after 2023-09-23.\n",
            "Instructions for updating:\n",
            "Lambda fuctions will be no more assumed to be used in the statement where they are used, or at least in the same block. https://github.com/tensorflow/tensorflow/issues/56089\n"
          ]
        },
        {
          "output_type": "stream",
          "name": "stdout",
          "text": [
            "14/14 [==============================] - 886s 61s/step - loss: 1.9624 - accuracy: 0.6801\n",
            "Epoch 2/3\n",
            "14/14 [==============================] - 855s 61s/step - loss: 0.7840 - accuracy: 0.9088\n",
            "Epoch 3/3\n",
            "14/14 [==============================] - 844s 60s/step - loss: 0.5195 - accuracy: 0.9115\n"
          ]
        },
        {
          "output_type": "execute_result",
          "data": {
            "text/plain": [
              "<keras.callbacks.History at 0x7f152c3772b0>"
            ]
          },
          "metadata": {},
          "execution_count": 41
        }
      ],
      "source": [
        "optimizer = tf.keras.optimizers.Adam(learning_rate=1e-5)\n",
        "#model.compile(optimizer=optimizer, loss=model.compute_loss(), metrics=['accuracy']) # can also use any keras loss fn\n",
        "model.compile(optimizer=optimizer, loss=tf.keras.losses.SparseCategoricalCrossentropy( from_logits=True), metrics=['accuracy']) # can also use any keras loss fn\n",
        "model.fit(train_dataset.shuffle(1000).batch(16),\n",
        "          epochs=3,\n",
        "        batch_size=16)"
      ]
    }
  ],
  "metadata": {
    "kernelspec": {
      "display_name": "Python 3 (ipykernel)",
      "language": "python",
      "name": "python3"
    },
    "language_info": {
      "codemirror_mode": {
        "name": "ipython",
        "version": 3
      },
      "file_extension": ".py",
      "mimetype": "text/x-python",
      "name": "python",
      "nbconvert_exporter": "python",
      "pygments_lexer": "ipython3",
      "version": "3.10.6"
    },
    "colab": {
      "provenance": []
    },
    "widgets": {
      "application/vnd.jupyter.widget-state+json": {
        "674ebf94d781453b87af8aa20842f1b5": {
          "model_module": "@jupyter-widgets/controls",
          "model_name": "HBoxModel",
          "model_module_version": "1.5.0",
          "state": {
            "_dom_classes": [],
            "_model_module": "@jupyter-widgets/controls",
            "_model_module_version": "1.5.0",
            "_model_name": "HBoxModel",
            "_view_count": null,
            "_view_module": "@jupyter-widgets/controls",
            "_view_module_version": "1.5.0",
            "_view_name": "HBoxView",
            "box_style": "",
            "children": [
              "IPY_MODEL_e00bc4130a4b4de6a347265c252a7224",
              "IPY_MODEL_875ce1f5d1b342c7b3e81258c1fc8ce1",
              "IPY_MODEL_95f01e0fd0694532a8dc2d2cedfdfd34"
            ],
            "layout": "IPY_MODEL_85a1bd6c7cc54c138cfbbd3f3c8db57a"
          }
        },
        "e00bc4130a4b4de6a347265c252a7224": {
          "model_module": "@jupyter-widgets/controls",
          "model_name": "HTMLModel",
          "model_module_version": "1.5.0",
          "state": {
            "_dom_classes": [],
            "_model_module": "@jupyter-widgets/controls",
            "_model_module_version": "1.5.0",
            "_model_name": "HTMLModel",
            "_view_count": null,
            "_view_module": "@jupyter-widgets/controls",
            "_view_module_version": "1.5.0",
            "_view_name": "HTMLView",
            "description": "",
            "description_tooltip": null,
            "layout": "IPY_MODEL_ba22f40b6d374b19aa7c34e083ba6859",
            "placeholder": "​",
            "style": "IPY_MODEL_8e45831c9f4546dabfc2997f629cf10d",
            "value": "100%"
          }
        },
        "875ce1f5d1b342c7b3e81258c1fc8ce1": {
          "model_module": "@jupyter-widgets/controls",
          "model_name": "FloatProgressModel",
          "model_module_version": "1.5.0",
          "state": {
            "_dom_classes": [],
            "_model_module": "@jupyter-widgets/controls",
            "_model_module_version": "1.5.0",
            "_model_name": "FloatProgressModel",
            "_view_count": null,
            "_view_module": "@jupyter-widgets/controls",
            "_view_module_version": "1.5.0",
            "_view_name": "ProgressView",
            "bar_style": "success",
            "description": "",
            "description_tooltip": null,
            "layout": "IPY_MODEL_fc81588a19ec4d6299846920aea8e8c2",
            "max": 220,
            "min": 0,
            "orientation": "horizontal",
            "style": "IPY_MODEL_066e156749be42abae59938f69a29755",
            "value": 220
          }
        },
        "95f01e0fd0694532a8dc2d2cedfdfd34": {
          "model_module": "@jupyter-widgets/controls",
          "model_name": "HTMLModel",
          "model_module_version": "1.5.0",
          "state": {
            "_dom_classes": [],
            "_model_module": "@jupyter-widgets/controls",
            "_model_module_version": "1.5.0",
            "_model_name": "HTMLModel",
            "_view_count": null,
            "_view_module": "@jupyter-widgets/controls",
            "_view_module_version": "1.5.0",
            "_view_name": "HTMLView",
            "description": "",
            "description_tooltip": null,
            "layout": "IPY_MODEL_3721626903884ecaa394d394edbcdd2e",
            "placeholder": "​",
            "style": "IPY_MODEL_eeffacf5bbb84c27a28861a93aa7a5b2",
            "value": " 220/220 [00:01&lt;00:00, 208.48it/s]"
          }
        },
        "85a1bd6c7cc54c138cfbbd3f3c8db57a": {
          "model_module": "@jupyter-widgets/base",
          "model_name": "LayoutModel",
          "model_module_version": "1.2.0",
          "state": {
            "_model_module": "@jupyter-widgets/base",
            "_model_module_version": "1.2.0",
            "_model_name": "LayoutModel",
            "_view_count": null,
            "_view_module": "@jupyter-widgets/base",
            "_view_module_version": "1.2.0",
            "_view_name": "LayoutView",
            "align_content": null,
            "align_items": null,
            "align_self": null,
            "border": null,
            "bottom": null,
            "display": null,
            "flex": null,
            "flex_flow": null,
            "grid_area": null,
            "grid_auto_columns": null,
            "grid_auto_flow": null,
            "grid_auto_rows": null,
            "grid_column": null,
            "grid_gap": null,
            "grid_row": null,
            "grid_template_areas": null,
            "grid_template_columns": null,
            "grid_template_rows": null,
            "height": null,
            "justify_content": null,
            "justify_items": null,
            "left": null,
            "margin": null,
            "max_height": null,
            "max_width": null,
            "min_height": null,
            "min_width": null,
            "object_fit": null,
            "object_position": null,
            "order": null,
            "overflow": null,
            "overflow_x": null,
            "overflow_y": null,
            "padding": null,
            "right": null,
            "top": null,
            "visibility": null,
            "width": null
          }
        },
        "ba22f40b6d374b19aa7c34e083ba6859": {
          "model_module": "@jupyter-widgets/base",
          "model_name": "LayoutModel",
          "model_module_version": "1.2.0",
          "state": {
            "_model_module": "@jupyter-widgets/base",
            "_model_module_version": "1.2.0",
            "_model_name": "LayoutModel",
            "_view_count": null,
            "_view_module": "@jupyter-widgets/base",
            "_view_module_version": "1.2.0",
            "_view_name": "LayoutView",
            "align_content": null,
            "align_items": null,
            "align_self": null,
            "border": null,
            "bottom": null,
            "display": null,
            "flex": null,
            "flex_flow": null,
            "grid_area": null,
            "grid_auto_columns": null,
            "grid_auto_flow": null,
            "grid_auto_rows": null,
            "grid_column": null,
            "grid_gap": null,
            "grid_row": null,
            "grid_template_areas": null,
            "grid_template_columns": null,
            "grid_template_rows": null,
            "height": null,
            "justify_content": null,
            "justify_items": null,
            "left": null,
            "margin": null,
            "max_height": null,
            "max_width": null,
            "min_height": null,
            "min_width": null,
            "object_fit": null,
            "object_position": null,
            "order": null,
            "overflow": null,
            "overflow_x": null,
            "overflow_y": null,
            "padding": null,
            "right": null,
            "top": null,
            "visibility": null,
            "width": null
          }
        },
        "8e45831c9f4546dabfc2997f629cf10d": {
          "model_module": "@jupyter-widgets/controls",
          "model_name": "DescriptionStyleModel",
          "model_module_version": "1.5.0",
          "state": {
            "_model_module": "@jupyter-widgets/controls",
            "_model_module_version": "1.5.0",
            "_model_name": "DescriptionStyleModel",
            "_view_count": null,
            "_view_module": "@jupyter-widgets/base",
            "_view_module_version": "1.2.0",
            "_view_name": "StyleView",
            "description_width": ""
          }
        },
        "fc81588a19ec4d6299846920aea8e8c2": {
          "model_module": "@jupyter-widgets/base",
          "model_name": "LayoutModel",
          "model_module_version": "1.2.0",
          "state": {
            "_model_module": "@jupyter-widgets/base",
            "_model_module_version": "1.2.0",
            "_model_name": "LayoutModel",
            "_view_count": null,
            "_view_module": "@jupyter-widgets/base",
            "_view_module_version": "1.2.0",
            "_view_name": "LayoutView",
            "align_content": null,
            "align_items": null,
            "align_self": null,
            "border": null,
            "bottom": null,
            "display": null,
            "flex": null,
            "flex_flow": null,
            "grid_area": null,
            "grid_auto_columns": null,
            "grid_auto_flow": null,
            "grid_auto_rows": null,
            "grid_column": null,
            "grid_gap": null,
            "grid_row": null,
            "grid_template_areas": null,
            "grid_template_columns": null,
            "grid_template_rows": null,
            "height": null,
            "justify_content": null,
            "justify_items": null,
            "left": null,
            "margin": null,
            "max_height": null,
            "max_width": null,
            "min_height": null,
            "min_width": null,
            "object_fit": null,
            "object_position": null,
            "order": null,
            "overflow": null,
            "overflow_x": null,
            "overflow_y": null,
            "padding": null,
            "right": null,
            "top": null,
            "visibility": null,
            "width": null
          }
        },
        "066e156749be42abae59938f69a29755": {
          "model_module": "@jupyter-widgets/controls",
          "model_name": "ProgressStyleModel",
          "model_module_version": "1.5.0",
          "state": {
            "_model_module": "@jupyter-widgets/controls",
            "_model_module_version": "1.5.0",
            "_model_name": "ProgressStyleModel",
            "_view_count": null,
            "_view_module": "@jupyter-widgets/base",
            "_view_module_version": "1.2.0",
            "_view_name": "StyleView",
            "bar_color": null,
            "description_width": ""
          }
        },
        "3721626903884ecaa394d394edbcdd2e": {
          "model_module": "@jupyter-widgets/base",
          "model_name": "LayoutModel",
          "model_module_version": "1.2.0",
          "state": {
            "_model_module": "@jupyter-widgets/base",
            "_model_module_version": "1.2.0",
            "_model_name": "LayoutModel",
            "_view_count": null,
            "_view_module": "@jupyter-widgets/base",
            "_view_module_version": "1.2.0",
            "_view_name": "LayoutView",
            "align_content": null,
            "align_items": null,
            "align_self": null,
            "border": null,
            "bottom": null,
            "display": null,
            "flex": null,
            "flex_flow": null,
            "grid_area": null,
            "grid_auto_columns": null,
            "grid_auto_flow": null,
            "grid_auto_rows": null,
            "grid_column": null,
            "grid_gap": null,
            "grid_row": null,
            "grid_template_areas": null,
            "grid_template_columns": null,
            "grid_template_rows": null,
            "height": null,
            "justify_content": null,
            "justify_items": null,
            "left": null,
            "margin": null,
            "max_height": null,
            "max_width": null,
            "min_height": null,
            "min_width": null,
            "object_fit": null,
            "object_position": null,
            "order": null,
            "overflow": null,
            "overflow_x": null,
            "overflow_y": null,
            "padding": null,
            "right": null,
            "top": null,
            "visibility": null,
            "width": null
          }
        },
        "eeffacf5bbb84c27a28861a93aa7a5b2": {
          "model_module": "@jupyter-widgets/controls",
          "model_name": "DescriptionStyleModel",
          "model_module_version": "1.5.0",
          "state": {
            "_model_module": "@jupyter-widgets/controls",
            "_model_module_version": "1.5.0",
            "_model_name": "DescriptionStyleModel",
            "_view_count": null,
            "_view_module": "@jupyter-widgets/base",
            "_view_module_version": "1.2.0",
            "_view_name": "StyleView",
            "description_width": ""
          }
        }
      }
    }
  },
  "nbformat": 4,
  "nbformat_minor": 5
}